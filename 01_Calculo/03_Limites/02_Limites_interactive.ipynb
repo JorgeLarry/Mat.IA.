{
  "nbformat": 4,
  "nbformat_minor": 0,
  "metadata": {
    "kernelspec": {
      "display_name": "Python 3",
      "language": "python",
      "name": "python3"
    },
    "language_info": {
      "codemirror_mode": {
        "name": "ipython",
        "version": 3
      },
      "file_extension": ".py",
      "mimetype": "text/x-python",
      "name": "python",
      "nbconvert_exporter": "python",
      "pygments_lexer": "ipython3",
      "version": "3.7.6"
    },
    "colab": {
      "name": "02_Limites_interactive.ipynb",
      "provenance": [],
      "include_colab_link": true
    },
    "widgets": {
      "application/vnd.jupyter.widget-state+json": {
        "033bdc7d65d2439e9ec4d1c8ca66a3c1": {
          "model_module": "@jupyter-widgets/controls",
          "model_name": "VBoxModel",
          "state": {
            "_view_name": "VBoxView",
            "_dom_classes": [
              "widget-interact"
            ],
            "_model_name": "VBoxModel",
            "_view_module": "@jupyter-widgets/controls",
            "_model_module_version": "1.5.0",
            "_view_count": null,
            "_view_module_version": "1.5.0",
            "box_style": "",
            "layout": "IPY_MODEL_680480bb64db40888e614fd74e1e9bb2",
            "_model_module": "@jupyter-widgets/controls",
            "children": [
              "IPY_MODEL_ab1dbc0f28634429a5d49e1d032fa005",
              "IPY_MODEL_092b2fb486cd4d679529cc23f5110b64",
              "IPY_MODEL_9519ea4d822c436bb8e4d787c39ed828"
            ]
          }
        },
        "680480bb64db40888e614fd74e1e9bb2": {
          "model_module": "@jupyter-widgets/base",
          "model_name": "LayoutModel",
          "state": {
            "_view_name": "LayoutView",
            "grid_template_rows": null,
            "right": null,
            "justify_content": null,
            "_view_module": "@jupyter-widgets/base",
            "overflow": null,
            "_model_module_version": "1.2.0",
            "_view_count": null,
            "flex_flow": null,
            "width": null,
            "min_width": null,
            "border": null,
            "align_items": null,
            "bottom": null,
            "_model_module": "@jupyter-widgets/base",
            "top": null,
            "grid_column": null,
            "overflow_y": null,
            "overflow_x": null,
            "grid_auto_flow": null,
            "grid_area": null,
            "grid_template_columns": null,
            "flex": null,
            "_model_name": "LayoutModel",
            "justify_items": null,
            "grid_row": null,
            "max_height": null,
            "align_content": null,
            "visibility": null,
            "align_self": null,
            "height": null,
            "min_height": null,
            "padding": null,
            "grid_auto_rows": null,
            "grid_gap": null,
            "max_width": null,
            "order": null,
            "_view_module_version": "1.2.0",
            "grid_template_areas": null,
            "object_position": null,
            "object_fit": null,
            "grid_auto_columns": null,
            "margin": null,
            "display": null,
            "left": null
          }
        },
        "ab1dbc0f28634429a5d49e1d032fa005": {
          "model_module": "@jupyter-widgets/controls",
          "model_name": "IntSliderModel",
          "state": {
            "_view_name": "IntSliderView",
            "style": "IPY_MODEL_ea5bb31c2433417ebb1c2aae5161854b",
            "_dom_classes": [],
            "description": "Límite $^-$",
            "step": 1,
            "_model_name": "IntSliderModel",
            "orientation": "horizontal",
            "max": 12,
            "_view_module": "@jupyter-widgets/controls",
            "_model_module_version": "1.5.0",
            "value": 2,
            "_view_count": null,
            "disabled": false,
            "_view_module_version": "1.5.0",
            "min": 0,
            "continuous_update": true,
            "readout_format": "d",
            "description_tooltip": null,
            "readout": true,
            "_model_module": "@jupyter-widgets/controls",
            "layout": "IPY_MODEL_5352da4f7e4142f3923dfd3e5c922ff0"
          }
        },
        "092b2fb486cd4d679529cc23f5110b64": {
          "model_module": "@jupyter-widgets/controls",
          "model_name": "IntSliderModel",
          "state": {
            "_view_name": "IntSliderView",
            "style": "IPY_MODEL_d257034fad6e419f93277170be6a0e29",
            "_dom_classes": [],
            "description": "Límite $^+$",
            "step": 1,
            "_model_name": "IntSliderModel",
            "orientation": "horizontal",
            "max": 20,
            "_view_module": "@jupyter-widgets/controls",
            "_model_module_version": "1.5.0",
            "value": 20,
            "_view_count": null,
            "disabled": false,
            "_view_module_version": "1.5.0",
            "min": 12,
            "continuous_update": true,
            "readout_format": "d",
            "description_tooltip": null,
            "readout": true,
            "_model_module": "@jupyter-widgets/controls",
            "layout": "IPY_MODEL_abb29019b0bd4b2b97975ad34a39fa64"
          }
        },
        "9519ea4d822c436bb8e4d787c39ed828": {
          "model_module": "@jupyter-widgets/output",
          "model_name": "OutputModel",
          "state": {
            "_view_name": "OutputView",
            "msg_id": "",
            "_dom_classes": [],
            "_model_name": "OutputModel",
            "outputs": [
              {
                "output_type": "display_data",
                "metadata": {
                  "tags": [],
                  "needs_background": "light"
                },
                "image/png": "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\n",
                "text/plain": "<Figure size 720x360 with 1 Axes>"
              }
            ],
            "_view_module": "@jupyter-widgets/output",
            "_model_module_version": "1.0.0",
            "_view_count": null,
            "_view_module_version": "1.0.0",
            "layout": "IPY_MODEL_77a4fe57c6d84693bbf7e669eb02456c",
            "_model_module": "@jupyter-widgets/output"
          }
        },
        "ea5bb31c2433417ebb1c2aae5161854b": {
          "model_module": "@jupyter-widgets/controls",
          "model_name": "SliderStyleModel",
          "state": {
            "_view_name": "StyleView",
            "handle_color": null,
            "_model_name": "SliderStyleModel",
            "description_width": "",
            "_view_module": "@jupyter-widgets/base",
            "_model_module_version": "1.5.0",
            "_view_count": null,
            "_view_module_version": "1.2.0",
            "_model_module": "@jupyter-widgets/controls"
          }
        },
        "5352da4f7e4142f3923dfd3e5c922ff0": {
          "model_module": "@jupyter-widgets/base",
          "model_name": "LayoutModel",
          "state": {
            "_view_name": "LayoutView",
            "grid_template_rows": null,
            "right": null,
            "justify_content": null,
            "_view_module": "@jupyter-widgets/base",
            "overflow": null,
            "_model_module_version": "1.2.0",
            "_view_count": null,
            "flex_flow": null,
            "width": null,
            "min_width": null,
            "border": null,
            "align_items": null,
            "bottom": null,
            "_model_module": "@jupyter-widgets/base",
            "top": null,
            "grid_column": null,
            "overflow_y": null,
            "overflow_x": null,
            "grid_auto_flow": null,
            "grid_area": null,
            "grid_template_columns": null,
            "flex": null,
            "_model_name": "LayoutModel",
            "justify_items": null,
            "grid_row": null,
            "max_height": null,
            "align_content": null,
            "visibility": null,
            "align_self": null,
            "height": null,
            "min_height": null,
            "padding": null,
            "grid_auto_rows": null,
            "grid_gap": null,
            "max_width": null,
            "order": null,
            "_view_module_version": "1.2.0",
            "grid_template_areas": null,
            "object_position": null,
            "object_fit": null,
            "grid_auto_columns": null,
            "margin": null,
            "display": null,
            "left": null
          }
        },
        "d257034fad6e419f93277170be6a0e29": {
          "model_module": "@jupyter-widgets/controls",
          "model_name": "SliderStyleModel",
          "state": {
            "_view_name": "StyleView",
            "handle_color": null,
            "_model_name": "SliderStyleModel",
            "description_width": "",
            "_view_module": "@jupyter-widgets/base",
            "_model_module_version": "1.5.0",
            "_view_count": null,
            "_view_module_version": "1.2.0",
            "_model_module": "@jupyter-widgets/controls"
          }
        },
        "abb29019b0bd4b2b97975ad34a39fa64": {
          "model_module": "@jupyter-widgets/base",
          "model_name": "LayoutModel",
          "state": {
            "_view_name": "LayoutView",
            "grid_template_rows": null,
            "right": null,
            "justify_content": null,
            "_view_module": "@jupyter-widgets/base",
            "overflow": null,
            "_model_module_version": "1.2.0",
            "_view_count": null,
            "flex_flow": null,
            "width": null,
            "min_width": null,
            "border": null,
            "align_items": null,
            "bottom": null,
            "_model_module": "@jupyter-widgets/base",
            "top": null,
            "grid_column": null,
            "overflow_y": null,
            "overflow_x": null,
            "grid_auto_flow": null,
            "grid_area": null,
            "grid_template_columns": null,
            "flex": null,
            "_model_name": "LayoutModel",
            "justify_items": null,
            "grid_row": null,
            "max_height": null,
            "align_content": null,
            "visibility": null,
            "align_self": null,
            "height": null,
            "min_height": null,
            "padding": null,
            "grid_auto_rows": null,
            "grid_gap": null,
            "max_width": null,
            "order": null,
            "_view_module_version": "1.2.0",
            "grid_template_areas": null,
            "object_position": null,
            "object_fit": null,
            "grid_auto_columns": null,
            "margin": null,
            "display": null,
            "left": null
          }
        },
        "77a4fe57c6d84693bbf7e669eb02456c": {
          "model_module": "@jupyter-widgets/base",
          "model_name": "LayoutModel",
          "state": {
            "_view_name": "LayoutView",
            "grid_template_rows": null,
            "right": null,
            "justify_content": null,
            "_view_module": "@jupyter-widgets/base",
            "overflow": null,
            "_model_module_version": "1.2.0",
            "_view_count": null,
            "flex_flow": null,
            "width": null,
            "min_width": null,
            "border": null,
            "align_items": null,
            "bottom": null,
            "_model_module": "@jupyter-widgets/base",
            "top": null,
            "grid_column": null,
            "overflow_y": null,
            "overflow_x": null,
            "grid_auto_flow": null,
            "grid_area": null,
            "grid_template_columns": null,
            "flex": null,
            "_model_name": "LayoutModel",
            "justify_items": null,
            "grid_row": null,
            "max_height": null,
            "align_content": null,
            "visibility": null,
            "align_self": null,
            "height": null,
            "min_height": null,
            "padding": null,
            "grid_auto_rows": null,
            "grid_gap": null,
            "max_width": null,
            "order": null,
            "_view_module_version": "1.2.0",
            "grid_template_areas": null,
            "object_position": null,
            "object_fit": null,
            "grid_auto_columns": null,
            "margin": null,
            "display": null,
            "left": null
          }
        }
      }
    }
  },
  "cells": [
    {
      "cell_type": "markdown",
      "metadata": {
        "id": "view-in-github",
        "colab_type": "text"
      },
      "source": [
        "<a href=\"https://colab.research.google.com/github/jugernaut/Prometeo/blob/desarrollo/01_Calculo/03_Limites/02_Limites_interactive.ipynb\" target=\"_parent\"><img src=\"https://colab.research.google.com/assets/colab-badge.svg\" alt=\"Open In Colab\"/></a>"
      ]
    },
    {
      "cell_type": "code",
      "metadata": {
        "id": "4brkzBYC8iP5",
        "outputId": "0ca9b716-4bcc-439c-a244-193f9cd6803a",
        "colab": {
          "base_uri": "https://localhost:8080/",
          "height": 35
        }
      },
      "source": [
        "!git clone https://github.com/joiortega1/Prueba_lectura.git"
      ],
      "execution_count": 1,
      "outputs": [
        {
          "output_type": "stream",
          "text": [
            "fatal: destination path 'Prueba_lectura' already exists and is not an empty directory.\n"
          ],
          "name": "stdout"
        }
      ]
    },
    {
      "cell_type": "code",
      "metadata": {
        "id": "Klv8G9E08s-8",
        "outputId": "eb96aad5-56f8-440d-f39e-a273312b1ad8",
        "colab": {
          "base_uri": "https://localhost:8080/",
          "height": 35
        }
      },
      "source": [
        "import os\n",
        "os.listdir('Prueba_lectura')"
      ],
      "execution_count": 2,
      "outputs": [
        {
          "output_type": "execute_result",
          "data": {
            "text/plain": [
              "['gutils.py', '.git', 'gutils.zip', '__pycache__']"
            ]
          },
          "metadata": {
            "tags": []
          },
          "execution_count": 2
        }
      ]
    },
    {
      "cell_type": "code",
      "metadata": {
        "id": "MEl97hap8pWB"
      },
      "source": [
        "import os, sys\n",
        "sys.path.insert(0, os.path.abspath('../../Utils'))\n",
        "\n",
        "import numpy as np\n",
        "import matplotlib.pyplot as plt\n",
        "import Prueba_lectura.gutils as vis\n",
        "%matplotlib inline\n",
        "\n",
        "from ipywidgets import interact, interactive, fixed\n",
        "import ipywidgets as widgets"
      ],
      "execution_count": 3,
      "outputs": []
    },
    {
      "cell_type": "code",
      "metadata": {
        "id": "1cdFnVnX8iRV"
      },
      "source": [
        "def limiteChilaquil(limite_izq, limite_der):\n",
        "    chiexponenciales = lambda x: np.exp(0.2 * x) + 120\n",
        "    chilogisticos = lambda x: 30 / (0.5 + np.exp(-1*(x-3.5)))\n",
        "\n",
        "    par = [{'title':'Chilaquiles', \n",
        "            'xlabel':'Semanas',\n",
        "            'ylabel':'Porciones vendidas'}]\n",
        "    graf = vis.planoCartesiano(par=par)\n",
        "    \n",
        "    xl = np.linspace(-1,12.1,100)       # Dominio: función logísitica   \n",
        "    yl = chilogisticos(xl) # Codominio  \n",
        "    graf.plot(x=xl, y=yl, par={'label':'Modelo logístico'})\n",
        "\n",
        "    x1 = limite_izq\n",
        "    y1 = chilogisticos(x1)\n",
        "    graf.scatter(x=x1, y=y1, \n",
        "                 par={'s':100, 'facecolor':'blue', 'edgecolor':'black', 'alpha':0.65, 'zorder':5}) \n",
        "\n",
        "    xe = np.linspace(12,20.1,9)     # Dominio: función exponencial\n",
        "    ye=chiexponenciales(xe)  # Codominio\n",
        "    graf.plot(x=xe, y=ye, par={'label':'Modelo exponencial'})\n",
        "\n",
        "    x2 = limite_der\n",
        "    y2 = chiexponenciales(x2)\n",
        "    graf.scatter(x=x2, y=y2, \n",
        "                 par={'s':100, 'facecolor':'red', 'edgecolor':'black', 'alpha':0.65, 'zorder':5}) \n",
        "\n",
        "    # Línea vertical\n",
        "    graf.plot(x = [12, 12], y=[0, 175], par={'ls':'--', 'lw':2, 'color':'green'})\n",
        "\n",
        "    li = chilogisticos(12)\n",
        "    graf.annotate(par={'s':'Límite $^-$ = {:5.3f}'.format(y1), 'xy':(x1,y1), 'xytext':(13,li), \n",
        "                       'xycoords':'data','textcoords':'data', 'fontsize':15, 'color':'blue',\n",
        "                       'arrowprops':{'arrowstyle':'-|>', 'connectionstyle':'arc3', 'color':'black'}\n",
        "                      })\n",
        "\n",
        "    ld = chiexponenciales(12)\n",
        "    graf.annotate(par={'s':'Límite $^+$ = {:5.3f}'.format(y2), 'xy':(x2,y2), 'xytext':(5,ld), \n",
        "                       'xycoords':'data','textcoords':'data', 'fontsize':15, 'color':'red',\n",
        "                       'arrowprops':{'arrowstyle':'-|>', 'connectionstyle':'arc3', 'color':'black'}\n",
        "                      })\n",
        "    \n",
        "    graf.ticks(xticks = [i for i in range(21)])\n",
        "    graf.legend()\n",
        "    graf.show()"
      ],
      "execution_count": 4,
      "outputs": []
    },
    {
      "cell_type": "code",
      "metadata": {
        "id": "WsvWbNQf8iSW",
        "outputId": "76aef5e7-dd46-423b-8f76-75f521901135",
        "colab": {
          "base_uri": "https://localhost:8080/",
          "height": 451,
          "referenced_widgets": [
            "033bdc7d65d2439e9ec4d1c8ca66a3c1",
            "680480bb64db40888e614fd74e1e9bb2",
            "ab1dbc0f28634429a5d49e1d032fa005",
            "092b2fb486cd4d679529cc23f5110b64",
            "9519ea4d822c436bb8e4d787c39ed828",
            "ea5bb31c2433417ebb1c2aae5161854b",
            "5352da4f7e4142f3923dfd3e5c922ff0",
            "d257034fad6e419f93277170be6a0e29",
            "abb29019b0bd4b2b97975ad34a39fa64",
            "77a4fe57c6d84693bbf7e669eb02456c"
          ]
        }
      },
      "source": [
        "#limiteChilaquil(0, 20)\n",
        "w = interact(limiteChilaquil,\n",
        "             limite_izq = widgets.IntSlider(min=0, max=12, step=1, value=0, description='Límite $^-$'),\n",
        "             limite_der = widgets.IntSlider(min=12, max=20, step=1, value=20, description='Límite $^+$'))\n",
        "display(w)"
      ],
      "execution_count": 5,
      "outputs": [
        {
          "output_type": "display_data",
          "data": {
            "application/vnd.jupyter.widget-view+json": {
              "model_id": "033bdc7d65d2439e9ec4d1c8ca66a3c1",
              "version_minor": 0,
              "version_major": 2
            },
            "text/plain": [
              "interactive(children=(IntSlider(value=0, description='Límite $^-$', max=12), IntSlider(value=20, description='…"
            ]
          },
          "metadata": {
            "tags": []
          }
        },
        {
          "output_type": "display_data",
          "data": {
            "text/plain": [
              "<function __main__.limiteChilaquil>"
            ]
          },
          "metadata": {
            "tags": []
          }
        }
      ]
    }
  ]
}